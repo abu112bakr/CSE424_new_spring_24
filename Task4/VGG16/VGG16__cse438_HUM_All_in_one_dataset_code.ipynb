{
  "nbformat": 4,
  "nbformat_minor": 0,
  "metadata": {
    "colab": {
      "provenance": [],
      "gpuType": "T4"
    },
    "kernelspec": {
      "name": "python3",
      "display_name": "Python 3"
    },
    "language_info": {
      "name": "python"
    },
    "accelerator": "GPU"
  },
  "cells": [
    {
      "cell_type": "code",
      "execution_count": null,
      "metadata": {
        "colab": {
          "base_uri": "https://localhost:8080/"
        },
        "id": "vCR79UVEJG2T",
        "outputId": "965ea2bb-f49b-450f-9e7d-3c6a079c9d4f"
      },
      "outputs": [
        {
          "output_type": "stream",
          "name": "stdout",
          "text": [
            "Mounted at /content/drive\n"
          ]
        }
      ],
      "source": [
        "\n",
        " # prompt: generate a code to connect with google drive\n",
        "\n",
        "from google.colab import drive\n",
        "drive.mount('/content/drive')\n"
      ]
    },
    {
      "cell_type": "code",
      "source": [
        "# UPDATE THIS LINK EVERYTIME\n",
        "\n",
        "#https://drive.google.com/file/d/1ijeCFt5RtcDeWKHaJunoVhHxo6Wra-nR/view?usp=sharing\n",
        "#https://drive.google.com/file/d/1fGRUb0QpXkTKe0Zk5SxC06NSt1VqZY-V/view?usp=sharing\n",
        "\n",
        "\n",
        "#REPLACE WITH YOUR OWN GOOGLE DRIVE DATASET LINK\n",
        "#https://drive.google.com/file/d/1gIDQxHVAVAeqIvuWhXvU3r-LoLFz8ge5/view?usp=sharing\n",
        "\n",
        "# REPLACE WITH YOUR OWN GOOGLE DIRVE DATASET LINK\n",
        "# Import data from google drive\n",
        "!gdown 13RIqYgphuZnKANIz-4OzhWqDEIVGqP3b"
      ],
      "metadata": {
        "colab": {
          "base_uri": "https://localhost:8080/"
        },
        "id": "uUr73Tx4JWBC",
        "outputId": "ab2536c2-5de2-433d-a895-1f5bebcd66f7"
      },
      "execution_count": null,
      "outputs": [
        {
          "output_type": "stream",
          "name": "stdout",
          "text": [
            "Downloading...\n",
            "From (original): https://drive.google.com/uc?id=13RIqYgphuZnKANIz-4OzhWqDEIVGqP3b\n",
            "From (redirected): https://drive.google.com/uc?id=13RIqYgphuZnKANIz-4OzhWqDEIVGqP3b&confirm=t&uuid=7419ea46-6141-440f-b4b8-218e7a2f662f\n",
            "To: /content/HAM10000_all_in_one.zip\n",
            "100% 2.77G/2.77G [00:55<00:00, 49.6MB/s]\n"
          ]
        }
      ]
    },
    {
      "cell_type": "code",
      "source": [
        "# Unzip it\n",
        "import zipfile\n",
        "#/content/tomato form plant village all in one.zip\n",
        "#/content/tomato form plant village all in one\n",
        "\n",
        "#PlantVillage_tomato_allinone.zip\n",
        "zip_ref = zipfile.ZipFile(\"HAM10000_all_in_one.zip\")\n",
        "zip_ref.extractall()\n",
        "zip_ref.close()"
      ],
      "metadata": {
        "id": "_vgnFNWbJYSh"
      },
      "execution_count": null,
      "outputs": []
    },
    {
      "cell_type": "code",
      "source": [
        "import numpy as np\n",
        "import pandas as pd\n",
        "import tensorflow as tf\n",
        "from tensorflow.keras.preprocessing.image import ImageDataGenerator\n",
        "from tensorflow.keras.applications import VGG16  # Import VGG16\n",
        "#from sklearn import svm\n",
        "from sklearn.metrics import classification_report, confusion_matrix\n",
        "import numpy as np\n",
        "\n",
        "from tensorflow.keras.layers import Dense, GlobalAveragePooling2D, Dropout, BatchNormalization\n",
        "from tensorflow.keras.models import Model\n",
        "from tensorflow.keras.optimizers import Adam  # Import Adam optimizer\n",
        "from tensorflow.keras.callbacks import EarlyStopping\n",
        "from sklearn.model_selection import train_test_split\n",
        "from sklearn.metrics import classification_report, confusion_matrix\n",
        "import matplotlib.pyplot as plt\n",
        "import seaborn as sns\n",
        "import os\n"
      ],
      "metadata": {
        "id": "naR_oBIxJYUk"
      },
      "execution_count": null,
      "outputs": []
    },
    {
      "cell_type": "code",
      "source": [
        "#PlantVillage_tomato_allinone.zip\n",
        "#Skin_cancer_ISIC_The_International_Skin_Imaging_Collaboration.zip\n",
        "#data_dir = '/content/Skin_cancer_ISIC_The_International_Skin_Imaging_Collaboration'\n",
        "data_dir = '/content/HAM10000_all_in_one'"
      ],
      "metadata": {
        "id": "muLOuL_GJYWS"
      },
      "execution_count": null,
      "outputs": []
    },
    {
      "cell_type": "code",
      "source": [
        "import os\n",
        "from PIL import Image\n",
        "\n",
        "\n",
        "# Create a list of all the images in your dataset.\n",
        "image_list = os.listdir(data_dir)\n",
        "\n",
        "# Iterate over the list of images and load each image.\n",
        "for image in image_list:\n",
        "  try:\n",
        "    image = Image.open(os.path.join(data_dir, image))\n",
        "  except OSError:\n",
        "    # Delete the image from the list.\n",
        "    image_list.remove(image)\n",
        "\n",
        "# Print the list of images that are not truncated.\n",
        "print(image_list)"
      ],
      "metadata": {
        "colab": {
          "base_uri": "https://localhost:8080/"
        },
        "id": "3Irp0LOWJYYi",
        "outputId": "7b186fb4-a5c3-4706-f6df-280098959c0b"
      },
      "execution_count": null,
      "outputs": [
        {
          "output_type": "stream",
          "name": "stdout",
          "text": [
            "['Actinic_keratosis_or_intraepithelial_carcinoma', 'Melanocytic_nevi', 'Vascular_lesion']\n"
          ]
        }
      ]
    },
    {
      "cell_type": "code",
      "source": [
        "\n",
        "# Set hyperparameters\n",
        "batch_size = 12\n",
        "epochs = 1\n",
        "\n",
        "# Data Augmentation with increased settings\n",
        "datagen = ImageDataGenerator(\n",
        "    rescale=1.0/255.0,\n",
        "    rotation_range=30,\n",
        "    width_shift_range=0.2,\n",
        "    height_shift_range=0.2,\n",
        "    shear_range=0.2,\n",
        "    zoom_range=0.2,\n",
        "    horizontal_flip=True,\n",
        "    fill_mode='nearest'\n",
        ")\n",
        "\n",
        "# Load the dataset and apply data augmentation with preprocessing\n",
        "generator = datagen.flow_from_directory(\n",
        "    data_dir,\n",
        "    target_size=(224, 224),\n",
        "    batch_size=batch_size,\n",
        "    class_mode='categorical',\n",
        "    shuffle=True\n",
        ")\n",
        "\n",
        "# Define the number of samples in the dataset\n",
        "num_samples = len(generator)\n",
        "\n",
        "# Define the split sizes\n",
        "train_size = int(0.8 * num_samples)\n",
        "val_size = int(0.1 * num_samples)\n",
        "test_size = num_samples - train_size - val_size\n",
        "\n",
        "# Split the dataset into training, validation, and test sets\n",
        "train_generator = generator\n",
        "validation_generator = datagen.flow_from_directory(\n",
        "    data_dir,\n",
        "    target_size=(224, 224),\n",
        "    batch_size=batch_size,\n",
        "    class_mode='categorical',\n",
        "    shuffle=True,\n",
        "    subset='validation',  # Use 'validation' subset for validation data\n",
        ")"
      ],
      "metadata": {
        "colab": {
          "base_uri": "https://localhost:8080/"
        },
        "id": "ttQVRy6SJYaQ",
        "outputId": "4b4bbbdc-c2fa-4f64-f954-5d193000fb1f"
      },
      "execution_count": null,
      "outputs": [
        {
          "output_type": "stream",
          "name": "stdout",
          "text": [
            "Found 10015 images belonging to 7 classes.\n",
            "Found 0 images belonging to 7 classes.\n"
          ]
        }
      ]
    },
    {
      "cell_type": "code",
      "source": [
        "#edge\n",
        "# Set hyperparameters\n",
        "batch_size = 12\n",
        "epochs = 30\n",
        "\n",
        "# Data Augmentation with increased settings\n",
        "datagen = ImageDataGenerator(\n",
        "    rescale=1.0/255.0,\n",
        "    rotation_range=30,\n",
        "    width_shift_range=0.2,\n",
        "    height_shift_range=0.2,\n",
        "    shear_range=0.2,\n",
        "    zoom_range=0.2,\n",
        "    horizontal_flip=True,\n",
        "    fill_mode='nearest',\n",
        "    validation_split=0.2  # reserve 20% of images for validation\n",
        ")\n",
        "\n",
        "# Load the dataset and apply data augmentation with preprocessing\n",
        "train_generator = datagen.flow_from_directory(\n",
        "    data_dir,\n",
        "    target_size=(224, 224),\n",
        "    batch_size=batch_size,\n",
        "    class_mode='categorical',\n",
        "    shuffle=True,\n",
        "    subset='training'  # Use 'training' subset for training data\n",
        ")\n",
        "\n",
        "# Define the number of samples in the dataset\n",
        "num_samples = len(train_generator)\n",
        "\n",
        "#train-validation-test split.\n",
        "#80% training, 10% validation and 10% tesing\n",
        "# Define the split sizes\n",
        "train_size = int(0.8 * num_samples)\n",
        "val_size = int(0.1 * num_samples)\n",
        "test_size = num_samples - train_size - val_size\n",
        "\n",
        "# Split the dataset into training, validation, and test sets\n",
        "validation_generator = datagen.flow_from_directory(\n",
        "    data_dir,\n",
        "    target_size=(224, 224),\n",
        "    batch_size=batch_size,\n",
        "    class_mode='categorical',\n",
        "    shuffle=True,\n",
        "    subset='validation',  # Use 'validation' subset for validation data\n",
        ")\n",
        "\n",
        "\n",
        "# Create a separate generator for the test set without data augmentation\n",
        "test_datagen = ImageDataGenerator(rescale=1.0/255.0)\n",
        "test_generator = test_datagen.flow_from_directory(\n",
        "    data_dir,\n",
        "    target_size=(224, 224),\n",
        "    batch_size=batch_size,\n",
        "    class_mode='categorical',\n",
        "    shuffle=False,  # No shuffling for the test data\n",
        ")\n",
        "\n",
        "# Build the base model (VGG-16) and add custom layers\n",
        "base_model = VGG16(weights='imagenet', include_top=False, input_shape=(224, 224, 3))\n",
        "\n",
        "# Unfreeze some layers for fine-tuning\n",
        "for layer in base_model.layers[:100]:\n",
        "    layer.trainable = True\n",
        "\n",
        "x = base_model.output\n",
        "x = GlobalAveragePooling2D()(x)\n",
        "x = Dense(512, activation='relu', kernel_regularizer=tf.keras.regularizers.l2(0.01))(x)\n",
        "x = Dropout(0.3)(x)\n",
        "predictions = Dense(generator.num_classes, activation='softmax')(x)\n",
        "model = Model(inputs=base_model.input, outputs=predictions)\n",
        "\n",
        "# Implement a learning rate schedule\n",
        "learning_rate_schedule = tf.keras.optimizers.schedules.ExponentialDecay(\n",
        "    initial_learning_rate=0.001,\n",
        "    decay_steps=10000,\n",
        "    decay_rate=0.9\n",
        ")\n",
        "\n",
        "\n",
        "# Compile the model with the learning rate schedule\n",
        "model.compile(optimizer=Adam(learning_rate=learning_rate_schedule), loss='categorical_crossentropy', metrics=['accuracy'])\n",
        "\n",
        "# Implement early stopping\n",
        "early_stopping = EarlyStopping(monitor='val_loss', patience=10, restore_best_weights=True)\n",
        "\n",
        "# Train the model with fine-tuning\n",
        "history = model.fit(\n",
        "    train_generator,\n",
        "    epochs=epochs,\n",
        "    validation_data=validation_generator,\n",
        "    callbacks=[early_stopping]\n",
        ")\n",
        "\n",
        "# Evaluate the model on the test data\n",
        "test_loss, test_accuracy = model.evaluate(test_generator, verbose=1)\n",
        "print(f\"Test Accuracy: {test_accuracy * 100:.2f}%\")\n",
        "\n",
        "# Convert one-hot encoded labels back to class indices\n",
        "y_true = test_generator.classes\n",
        "\n",
        "# Convert model predictions to class indices\n",
        "y_pred = np.argmax(model.predict(test_generator), axis=1)\n",
        "\n",
        "# Generate the classification report\n",
        "class_names = list(train_generator.class_indices.keys())  # Get class labels\n",
        "report = classification_report(y_true, y_pred, target_names=class_names)\n",
        "\n",
        "# Print the classification report\n",
        "print(report)\n",
        "\n",
        "# Calculate the confusion matrix\n",
        "confusion = confusion_matrix(y_true, y_pred)\n",
        "\n",
        "# Create a function to plot the confusion matrix\n",
        "def plot_confusion_matrix(cm, labels):\n",
        "    plt.figure(figsize=(8, 6))\n",
        "    sns.heatmap(cm, annot=True, fmt=\"d\", cmap=\"Blues\", xticklabels=labels, yticklabels=labels)\n",
        "    plt.xlabel('Predicted')\n",
        "    plt.ylabel('True')\n",
        "    plt.title('Confusion Matrix')\n",
        "    plt.show()\n",
        "\n",
        "# Call the function to plot the confusion matrix\n",
        "plot_confusion_matrix(confusion, class_names)\n",
        "\n",
        "# # Compile the model with the learning rate schedule\n",
        "# model.compile(optimizer=Adam(learning_rate=learning_rate_schedule), loss='categorical_crossentropy', metrics=['accuracy'])\n",
        "\n",
        "# # Implement early stopping\n",
        "# early_stopping = EarlyStopping(monitor='val_loss', patience=10, restore_best_weights=True)\n",
        "\n",
        "# # Train the model with fine-tuning\n",
        "# history = model.fit(\n",
        "#     train_generator,\n",
        "#     epochs=epochs,\n",
        "#     validation_data=validation_generator,\n",
        "#     callbacks=[early_stopping]\n",
        "# )\n",
        "\n",
        "# # Evaluate the model on the test data\n",
        "# test_loss, test_accuracy = model.evaluate(test_generator, verbose=1)\n",
        "# print(f\"Test Accuracy: {test_accuracy * 100:.2f}%\")\n",
        "\n",
        "# # Convert one-hot encoded labels back to class indices\n",
        "# y_true = test_generator.classes\n",
        "\n",
        "# # Convert model predictions to class indices\n",
        "# y_pred = np.argmax(model.predict(test_generator), axis=1)\n",
        "\n",
        "# # Generate the classification report\n",
        "# class_names = list(train_generator.class_indices.keys())  # Get class labels\n",
        "# report = classification_report(y_true, y_pred, target_names=class_names)\n",
        "\n",
        "# # Print the classification report\n",
        "# print(report)\n",
        "\n",
        "# # Calculate the confusion matrix\n",
        "# confusion = confusion_matrix(y_true, y_pred)\n",
        "\n",
        "# # Create a function to plot the confusion matrix\n",
        "# def plot_confusion_matrix(cm, labels):\n",
        "#     plt.figure(figsize=(8, 6))\n",
        "#     sns.heatmap(cm, annot=True, fmt=\"d\", cmap=\"Blues\", xticklabels=labels, yticklabels=labels)\n",
        "#     plt.xlabel('Predicted')\n",
        "#     plt.ylabel('True')\n",
        "#     plt.title('Confusion Matrix')\n",
        "#     plt.show()\n",
        "\n",
        "# # Call the function to plot the confusion matrix\n",
        "# plot_confusion_matrix(confusion, class_names)\n",
        "\n",
        "\n",
        "\n",
        "\n",
        "\n",
        "\n",
        "\n",
        "\n",
        "\n",
        "\n",
        "\n",
        "\n",
        "\n"
      ],
      "metadata": {
        "colab": {
          "base_uri": "https://localhost:8080/",
          "height": 1000
        },
        "id": "aWoIzo5QJYcV",
        "outputId": "8d2bad90-9fbc-4358-f994-afb9b4058914"
      },
      "execution_count": null,
      "outputs": [
        {
          "output_type": "stream",
          "name": "stdout",
          "text": [
            "Found 8015 images belonging to 7 classes.\n",
            "Found 2000 images belonging to 7 classes.\n",
            "Found 10015 images belonging to 7 classes.\n",
            "Downloading data from https://storage.googleapis.com/tensorflow/keras-applications/vgg16/vgg16_weights_tf_dim_ordering_tf_kernels_notop.h5\n",
            "58889256/58889256 [==============================] - 0s 0us/step\n",
            "Epoch 1/30\n",
            "668/668 [==============================] - 257s 358ms/step - loss: 1.5529 - accuracy: 0.6677 - val_loss: 1.1848 - val_accuracy: 0.6705\n",
            "Epoch 2/30\n",
            "668/668 [==============================] - 231s 346ms/step - loss: 1.1948 - accuracy: 0.6675 - val_loss: 1.1523 - val_accuracy: 0.6705\n",
            "Epoch 3/30\n",
            "668/668 [==============================] - 233s 349ms/step - loss: 1.1576 - accuracy: 0.6692 - val_loss: 1.1359 - val_accuracy: 0.6705\n",
            "Epoch 4/30\n",
            "668/668 [==============================] - 235s 352ms/step - loss: 1.1466 - accuracy: 0.6692 - val_loss: 1.1348 - val_accuracy: 0.6705\n",
            "Epoch 5/30\n",
            "668/668 [==============================] - 234s 350ms/step - loss: 1.1457 - accuracy: 0.6692 - val_loss: 1.1489 - val_accuracy: 0.6705\n",
            "Epoch 6/30\n",
            "668/668 [==============================] - 230s 344ms/step - loss: 1.1442 - accuracy: 0.6692 - val_loss: 1.1329 - val_accuracy: 0.6705\n",
            "Epoch 7/30\n",
            "668/668 [==============================] - 231s 346ms/step - loss: 1.1716 - accuracy: 0.6692 - val_loss: 1.1504 - val_accuracy: 0.6705\n",
            "Epoch 8/30\n",
            "668/668 [==============================] - 231s 345ms/step - loss: 1.1553 - accuracy: 0.6692 - val_loss: 1.1324 - val_accuracy: 0.6705\n",
            "Epoch 9/30\n",
            "668/668 [==============================] - 232s 347ms/step - loss: 1.1458 - accuracy: 0.6692 - val_loss: 1.1341 - val_accuracy: 0.6705\n",
            "Epoch 10/30\n",
            "668/668 [==============================] - 230s 343ms/step - loss: 1.1439 - accuracy: 0.6692 - val_loss: 1.1335 - val_accuracy: 0.6705\n",
            "Epoch 11/30\n",
            "668/668 [==============================] - 229s 342ms/step - loss: 1.1763 - accuracy: 0.6692 - val_loss: 1.1452 - val_accuracy: 0.6705\n",
            "Epoch 12/30\n",
            "668/668 [==============================] - 235s 352ms/step - loss: 1.1490 - accuracy: 0.6692 - val_loss: 1.1339 - val_accuracy: 0.6705\n",
            "Epoch 13/30\n",
            "668/668 [==============================] - 235s 351ms/step - loss: 1.1430 - accuracy: 0.6692 - val_loss: 1.1375 - val_accuracy: 0.6705\n",
            "Epoch 14/30\n",
            "668/668 [==============================] - 234s 350ms/step - loss: 1.1382 - accuracy: 0.6692 - val_loss: 1.1311 - val_accuracy: 0.6705\n",
            "Epoch 15/30\n",
            "668/668 [==============================] - 239s 357ms/step - loss: 1.1391 - accuracy: 0.6692 - val_loss: 1.1306 - val_accuracy: 0.6705\n",
            "Epoch 16/30\n",
            "668/668 [==============================] - 234s 350ms/step - loss: 1.1377 - accuracy: 0.6692 - val_loss: 1.1316 - val_accuracy: 0.6705\n",
            "Epoch 17/30\n",
            "668/668 [==============================] - 229s 343ms/step - loss: 1.1379 - accuracy: 0.6692 - val_loss: 1.1329 - val_accuracy: 0.6705\n",
            "Epoch 18/30\n",
            "668/668 [==============================] - 226s 338ms/step - loss: 1.1366 - accuracy: 0.6692 - val_loss: 1.1433 - val_accuracy: 0.6705\n",
            "Epoch 19/30\n",
            "668/668 [==============================] - 227s 339ms/step - loss: 1.1373 - accuracy: 0.6692 - val_loss: 1.1303 - val_accuracy: 0.6705\n",
            "Epoch 20/30\n",
            "668/668 [==============================] - 229s 343ms/step - loss: 1.1357 - accuracy: 0.6692 - val_loss: 1.1300 - val_accuracy: 0.6705\n",
            "Epoch 21/30\n",
            "668/668 [==============================] - 226s 338ms/step - loss: 1.1347 - accuracy: 0.6692 - val_loss: 1.1299 - val_accuracy: 0.6705\n",
            "Epoch 22/30\n",
            "668/668 [==============================] - 225s 337ms/step - loss: 1.1340 - accuracy: 0.6692 - val_loss: 1.1328 - val_accuracy: 0.6705\n",
            "Epoch 23/30\n",
            "668/668 [==============================] - 223s 334ms/step - loss: 1.1358 - accuracy: 0.6692 - val_loss: 1.1295 - val_accuracy: 0.6705\n",
            "Epoch 24/30\n",
            "668/668 [==============================] - 233s 349ms/step - loss: 1.1348 - accuracy: 0.6692 - val_loss: 1.1302 - val_accuracy: 0.6705\n",
            "Epoch 25/30\n",
            "668/668 [==============================] - 236s 353ms/step - loss: 1.1340 - accuracy: 0.6692 - val_loss: 1.1289 - val_accuracy: 0.6705\n",
            "Epoch 26/30\n",
            "668/668 [==============================] - 234s 350ms/step - loss: 1.1348 - accuracy: 0.6692 - val_loss: 1.1294 - val_accuracy: 0.6705\n",
            "Epoch 27/30\n",
            "668/668 [==============================] - 235s 352ms/step - loss: 1.1349 - accuracy: 0.6692 - val_loss: 1.1300 - val_accuracy: 0.6705\n",
            "Epoch 28/30\n",
            "668/668 [==============================] - 234s 350ms/step - loss: 1.1353 - accuracy: 0.6692 - val_loss: 1.1290 - val_accuracy: 0.6705\n",
            "Epoch 29/30\n",
            "668/668 [==============================] - 233s 349ms/step - loss: 1.1352 - accuracy: 0.6692 - val_loss: 1.1291 - val_accuracy: 0.6705\n",
            "Epoch 30/30\n",
            "668/668 [==============================] - 234s 350ms/step - loss: 1.1347 - accuracy: 0.6692 - val_loss: 1.1290 - val_accuracy: 0.6705\n",
            "835/835 [==============================] - 87s 104ms/step - loss: 1.1316 - accuracy: 0.6695\n",
            "Test Accuracy: 66.95%\n",
            "835/835 [==============================] - 84s 101ms/step\n"
          ]
        },
        {
          "output_type": "stream",
          "name": "stderr",
          "text": [
            "/usr/local/lib/python3.10/dist-packages/sklearn/metrics/_classification.py:1344: UndefinedMetricWarning: Precision and F-score are ill-defined and being set to 0.0 in labels with no predicted samples. Use `zero_division` parameter to control this behavior.\n",
            "  _warn_prf(average, modifier, msg_start, len(result))\n",
            "/usr/local/lib/python3.10/dist-packages/sklearn/metrics/_classification.py:1344: UndefinedMetricWarning: Precision and F-score are ill-defined and being set to 0.0 in labels with no predicted samples. Use `zero_division` parameter to control this behavior.\n",
            "  _warn_prf(average, modifier, msg_start, len(result))\n",
            "/usr/local/lib/python3.10/dist-packages/sklearn/metrics/_classification.py:1344: UndefinedMetricWarning: Precision and F-score are ill-defined and being set to 0.0 in labels with no predicted samples. Use `zero_division` parameter to control this behavior.\n",
            "  _warn_prf(average, modifier, msg_start, len(result))\n"
          ]
        },
        {
          "output_type": "stream",
          "name": "stdout",
          "text": [
            "                                                precision    recall  f1-score   support\n",
            "\n",
            "Actinic_keratosis_or_intraepithelial_carcinoma       0.00      0.00      0.00       327\n",
            "                          Basal_cell_carcinoma       0.00      0.00      0.00       514\n",
            "                  Benign_keratosis_like_lesion       0.00      0.00      0.00      1099\n",
            "                                Dermatofibroma       0.00      0.00      0.00       115\n",
            "                              Melanocytic_nevi       0.67      1.00      0.80      6705\n",
            "                                      Melanoma       0.00      0.00      0.00      1113\n",
            "                               Vascular_lesion       0.00      0.00      0.00       142\n",
            "\n",
            "                                      accuracy                           0.67     10015\n",
            "                                     macro avg       0.10      0.14      0.11     10015\n",
            "                                  weighted avg       0.45      0.67      0.54     10015\n",
            "\n"
          ]
        },
        {
          "output_type": "display_data",
          "data": {
            "text/plain": [
              "<Figure size 800x600 with 2 Axes>"
            ],
            "image/png": "[encoded data removed]"
          },
          "metadata": {}
        }
      ]
    },
    {
      "cell_type": "code",
      "source": [
        "# import pandas as pd\n",
        "\n",
        "# # Create a dictionary to store the results\n",
        "# results_dict = {\n",
        "#     'Test Accuracy': [test_accuracy * 100],\n",
        "#     'Classification Report': [report],\n",
        "# }\n",
        "\n",
        "# # Convert the confusion matrix to a DataFrame\n",
        "# confusion_df = pd.DataFrame(confusion, index=class_names, columns=class_names)\n",
        "\n",
        "# # Save the confusion matrix to CSV\n",
        "# confusion_df.to_csv('confusion_matrix.csv')\n",
        "\n",
        "# # Convert the dictionary to a DataFrame\n",
        "# results_df = pd.DataFrame(results_dict)\n",
        "\n",
        "# # Save the results to CSV\n",
        "# results_df.to_csv('evaluation_results.csv', index=False)\n",
        "\n",
        "\n",
        "import pandas as pd\n",
        "from google.colab import drive\n",
        "\n",
        "# Mount Google Drive\n",
        "drive.mount('/content/drive')\n",
        "\n",
        "# Define the path to the directory where you want to save the files\n",
        "path = '/content/drive/My Drive/'\n",
        "\n",
        "# Create a dictionary to store the results\n",
        "results_dict = {\n",
        "    'Test Accuracy': [test_accuracy * 100],\n",
        "    'Classification Report': [report],\n",
        "}\n",
        "\n",
        "# Convert the confusion matrix to a DataFrame\n",
        "confusion_df = pd.DataFrame(confusion, index=class_names, columns=class_names)\n",
        "\n",
        "# Save the confusion matrix to CSV\n",
        "confusion_df.to_csv(path + 'VGG16_cse438_HUM_All_in_one_dataset_confusion_matrix.csv')\n",
        "\n",
        "# Convert the dictionary to a DataFrame\n",
        "results_df = pd.DataFrame(results_dict)\n",
        "\n",
        "# Save the results to CSV\n",
        "results_df.to_csv(path + 'VGG16_cse438_HUM_All_in_one_dataset_evaluation_results.csv', index=False)\n"
      ],
      "metadata": {
        "colab": {
          "base_uri": "https://localhost:8080/"
        },
        "id": "XES-FqcqJYej",
        "outputId": "fc9159f3-a7a5-4f81-9fea-fd13ac4e0590"
      },
      "execution_count": null,
      "outputs": [
        {
          "output_type": "stream",
          "name": "stdout",
          "text": [
            "Drive already mounted at /content/drive; to attempt to forcibly remount, call drive.mount(\"/content/drive\", force_remount=True).\n"
          ]
        }
      ]
    }
  ]
}