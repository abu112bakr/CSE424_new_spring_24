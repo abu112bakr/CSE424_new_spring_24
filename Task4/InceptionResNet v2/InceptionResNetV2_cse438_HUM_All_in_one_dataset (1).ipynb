{
  "nbformat": 4,
  "nbformat_minor": 0,
  "metadata": {
    "colab": {
      "provenance": [],
      "gpuType": "T4"
    },
    "kernelspec": {
      "name": "python3",
      "display_name": "Python 3"
    },
    "language_info": {
      "name": "python"
    },
    "accelerator": "GPU"
  },
  "cells": [
    {
      "cell_type": "code",
      "execution_count": null,
      "metadata": {
        "colab": {
          "base_uri": "https://localhost:8080/"
        },
        "id": "u9-98xCihXoM",
        "outputId": "8abebeb4-2e5d-43c3-bfb6-0e465e1bfa0b"
      },
      "outputs": [
        {
          "output_type": "stream",
          "name": "stdout",
          "text": [
            "Drive already mounted at /content/drive; to attempt to forcibly remount, call drive.mount(\"/content/drive\", force_remount=True).\n"
          ]
        }
      ],
      "source": [
        "\n",
        " # prompt: generate a code to connect with google drive\n",
        "\n",
        "from google.colab import drive\n",
        "drive.mount('/content/drive')\n"
      ]
    },
    {
      "cell_type": "code",
      "source": [
        "# UPDATE THIS LINK EVERYTIME\n",
        "\n",
        "#https://drive.google.com/file/d/1ijeCFt5RtcDeWKHaJunoVhHxo6Wra-nR/view?usp=sharing\n",
        "#https://drive.google.com/file/d/1fGRUb0QpXkTKe0Zk5SxC06NSt1VqZY-V/view?usp=sharing\n",
        "\n",
        "\n",
        "#REPLACE WITH YOUR OWN GOOGLE DRIVE DATASET LINK\n",
        "#https://drive.google.com/file/d/1gIDQxHVAVAeqIvuWhXvU3r-LoLFz8ge5/view?usp=sharing\n",
        "\n",
        "# REPLACE WITH YOUR OWN GOOGLE DIRVE DATASET LINK\n",
        "# Import data from google drive\n",
        "!gdown 1gIDQxHVAVAeqIvuWhXvU3r-LoLFz8ge5"
      ],
      "metadata": {
        "colab": {
          "base_uri": "https://localhost:8080/"
        },
        "id": "jZEpmKAthdpG",
        "outputId": "6c7a989d-f063-4ea0-f24a-70e54531d92e"
      },
      "execution_count": null,
      "outputs": [
        {
          "output_type": "stream",
          "name": "stdout",
          "text": [
            "Downloading...\n",
            "From (original): https://drive.google.com/uc?id=1gIDQxHVAVAeqIvuWhXvU3r-LoLFz8ge5\n",
            "From (redirected): https://drive.google.com/uc?id=1gIDQxHVAVAeqIvuWhXvU3r-LoLFz8ge5&confirm=t&uuid=68e4f34d-7622-4796-bb64-8f4ee7e5592e\n",
            "To: /content/HAM10000_all_in_one.zip\n",
            "100% 2.77G/2.77G [00:42<00:00, 65.2MB/s]\n"
          ]
        }
      ]
    },
    {
      "cell_type": "code",
      "source": [
        "from google.colab import drive\n",
        "drive.mount('/content/drive')"
      ],
      "metadata": {
        "colab": {
          "base_uri": "https://localhost:8080/"
        },
        "id": "lwzFro5ohdrF",
        "outputId": "8b266634-6462-4a01-94e6-f333cfd1453d"
      },
      "execution_count": null,
      "outputs": [
        {
          "output_type": "stream",
          "name": "stdout",
          "text": [
            "Drive already mounted at /content/drive; to attempt to forcibly remount, call drive.mount(\"/content/drive\", force_remount=True).\n"
          ]
        }
      ]
    },
    {
      "cell_type": "code",
      "source": [
        "# Unzip it\n",
        "import zipfile\n",
        "#/content/tomato form plant village all in one.zip\n",
        "#/content/tomato form plant village all in one\n",
        "\n",
        "#PlantVillage_tomato_allinone.zip\n",
        "zip_ref = zipfile.ZipFile(\"HAM10000_all_in_one.zip\")\n",
        "zip_ref.extractall()\n",
        "zip_ref.close()"
      ],
      "metadata": {
        "id": "qM9YwXQHhdtZ"
      },
      "execution_count": null,
      "outputs": []
    },
    {
      "cell_type": "code",
      "source": [
        "import numpy as np\n",
        "import pandas as pd\n",
        "import tensorflow as tf\n",
        "from tensorflow.keras.preprocessing.image import ImageDataGenerator\n",
        "from tensorflow.keras.applications import InceptionResNetV2  # Import InceptionResNetV2\n",
        "#from sklearn import svm\n",
        "from sklearn.metrics import classification_report, confusion_matrix\n",
        "import numpy as np\n",
        "\n",
        "from tensorflow.keras.layers import Dense, GlobalAveragePooling2D, Dropout, BatchNormalization\n",
        "from tensorflow.keras.models import Model\n",
        "from tensorflow.keras.optimizers import Adam  # Import Adam optimizer\n",
        "from tensorflow.keras.callbacks import EarlyStopping\n",
        "from sklearn.model_selection import train_test_split\n",
        "from sklearn.metrics import classification_report, confusion_matrix\n",
        "import matplotlib.pyplot as plt\n",
        "import seaborn as sns\n",
        "import os\n"
      ],
      "metadata": {
        "id": "SopEGxkPhdvp"
      },
      "execution_count": null,
      "outputs": []
    },
    {
      "cell_type": "code",
      "source": [
        "#PlantVillage_tomato_allinone.zip\n",
        "#Skin_cancer_ISIC_The_International_Skin_Imaging_Collaboration.zip\n",
        "#data_dir = '/content/Skin_cancer_ISIC_The_International_Skin_Imaging_Collaboration'\n",
        "data_dir = '/content/HAM10000_all_in_one'"
      ],
      "metadata": {
        "id": "9tnKvaKGhdxr"
      },
      "execution_count": null,
      "outputs": []
    },
    {
      "cell_type": "code",
      "source": [
        "import os\n",
        "from PIL import Image\n",
        "\n",
        "\n",
        "# Create a list of all the images in your dataset.\n",
        "image_list = os.listdir(data_dir)\n",
        "\n",
        "# Iterate over the list of images and load each image.\n",
        "for image in image_list:\n",
        "  try:\n",
        "    image = Image.open(os.path.join(data_dir, image))\n",
        "  except OSError:\n",
        "    # Delete the image from the list.\n",
        "    image_list.remove(image)\n",
        "\n",
        "# Print the list of images that are not truncated.\n",
        "print(image_list)"
      ],
      "metadata": {
        "colab": {
          "base_uri": "https://localhost:8080/"
        },
        "id": "bWuLtG7Ahd1R",
        "outputId": "77250efe-4c45-4f55-fec8-912de001bc00"
      },
      "execution_count": null,
      "outputs": [
        {
          "output_type": "stream",
          "name": "stdout",
          "text": [
            "['Melanoma', 'Dermatofibroma', 'Actinic_keratosis_or_intraepithelial_carcinoma']\n"
          ]
        }
      ]
    },
    {
      "cell_type": "code",
      "source": [
        "#data_dir = '/content/Skin_cancer_ISIC_The_International_Skin_Imaging_Collaboration'\n",
        "data_dir = '/content/HAM10000_all_in_one'\n",
        "\n",
        "import os\n",
        "from PIL import Image\n",
        "\n",
        "\n",
        "# Create a list of all the images in your dataset.\n",
        "image_list = os.listdir(data_dir)\n",
        "\n",
        "# Create an empty list to store valid images\n",
        "valid_images = []\n",
        "\n",
        "# Iterate over the list of images and load each image.\n",
        "for image in image_list:\n",
        "    try:\n",
        "        image_path = os.path.join(data_dir, image)\n",
        "        img = Image.open(image_path)\n",
        "        # If the image is successfully opened, add it to the list of valid images\n",
        "        valid_images.append(image)\n",
        "    except OSError:\n",
        "        # Print the filename if there's an error opening the image\n",
        "        print(f\"Error opening image: {image}\")\n",
        "\n",
        "# Print the list of valid images\n",
        "print(\"List of valid images:\")\n",
        "print(valid_images)\n"
      ],
      "metadata": {
        "colab": {
          "base_uri": "https://localhost:8080/"
        },
        "id": "a7rLwaqrYIpJ",
        "outputId": "435d8245-defb-4475-d510-18e75fb0a293"
      },
      "execution_count": null,
      "outputs": [
        {
          "output_type": "stream",
          "name": "stdout",
          "text": [
            "Error opening image: Basal_cell_carcinoma\n",
            "Error opening image: Melanoma\n",
            "Error opening image: Melanocytic_nevi\n",
            "Error opening image: Dermatofibroma\n",
            "Error opening image: Benign_keratosis_like_lesion\n",
            "Error opening image: Actinic_keratosis_or_intraepithelial_carcinoma\n",
            "Error opening image: Vascular_lesion\n",
            "List of valid images:\n",
            "[]\n"
          ]
        }
      ]
    },
    {
      "cell_type": "code",
      "source": [
        "\n",
        "# Set hyperparameters\n",
        "batch_size = 12\n",
        "epochs = 1\n",
        "\n",
        "# Data Augmentation with increased settings\n",
        "#Augmentation\n",
        "#pre process block e likhe dibo\n",
        "#or augment block e bolba\n",
        "#read related papers\n",
        "#\n",
        "datagen = ImageDataGenerator(\n",
        "    rescale=1.0/255.0,\n",
        "    rotation_range=30,\n",
        "    width_shift_range=0.2,\n",
        "    height_shift_range=0.2,\n",
        "    shear_range=0.2,\n",
        "    zoom_range=0.2,\n",
        "    horizontal_flip=True,\n",
        "    fill_mode='nearest'\n",
        ")\n",
        "\n",
        "# Load the dataset and apply data augmentation with preprocessing\n",
        "generator = datagen.flow_from_directory(\n",
        "    data_dir,\n",
        "    target_size=(224, 224),\n",
        "    batch_size=batch_size,\n",
        "    class_mode='categorical',\n",
        "    shuffle=True\n",
        ")\n",
        "\n",
        "# Define the number of samples in the dataset\n",
        "num_samples = len(generator)\n",
        "\n",
        "# Define the split sizes\n",
        "train_size = int(0.8 * num_samples)\n",
        "val_size = int(0.1 * num_samples)\n",
        "test_size = num_samples - train_size - val_size\n",
        "\n",
        "# Split the dataset into training, validation, and test sets\n",
        "train_generator = generator\n",
        "validation_generator = datagen.flow_from_directory(\n",
        "    data_dir,\n",
        "    target_size=(224, 224),\n",
        "    batch_size=batch_size,\n",
        "    class_mode='categorical',\n",
        "    shuffle=True,\n",
        "    subset='validation',  # Use 'validation' subset for validation data\n",
        ")"
      ],
      "metadata": {
        "colab": {
          "base_uri": "https://localhost:8080/"
        },
        "id": "ViDKPpRLhd7Y",
        "outputId": "de960d04-5978-4b30-e14e-076ed718d591"
      },
      "execution_count": null,
      "outputs": [
        {
          "output_type": "stream",
          "name": "stdout",
          "text": [
            "Found 10015 images belonging to 7 classes.\n",
            "Found 0 images belonging to 7 classes.\n"
          ]
        }
      ]
    },
    {
      "cell_type": "code",
      "source": [
        "#edge\n",
        "# Set hyperparameters\n",
        "batch_size = 12\n",
        "epochs = 30\n",
        "\n",
        "# Data Augmentation with increased settings\n",
        "datagen = ImageDataGenerator(\n",
        "    rescale=1.0/255.0,\n",
        "    rotation_range=30,\n",
        "    width_shift_range=0.2,\n",
        "    height_shift_range=0.2,\n",
        "    shear_range=0.2,\n",
        "    zoom_range=0.2,\n",
        "    horizontal_flip=True,\n",
        "    fill_mode='nearest',\n",
        "    validation_split=0.2  # reserve 20% of images for validation\n",
        ")\n",
        "\n",
        "# Load the dataset and apply data augmentation with preprocessing\n",
        "train_generator = datagen.flow_from_directory(\n",
        "    data_dir,\n",
        "    target_size=(224, 224),\n",
        "    batch_size=batch_size,\n",
        "    class_mode='categorical',\n",
        "    shuffle=True,\n",
        "    subset='training'  # Use 'training' subset for training data\n",
        ")\n",
        "\n",
        "# Define the number of samples in the dataset\n",
        "num_samples = len(train_generator)\n",
        "\n",
        "#train-validation-test split.\n",
        "#80% training, 10% validation and 10% tesing\n",
        "# Define the split sizes\n",
        "train_size = int(0.8 * num_samples)\n",
        "val_size = int(0.1 * num_samples)\n",
        "test_size = num_samples - train_size - val_size\n",
        "\n",
        "# Split the dataset into training, validation, and test sets\n",
        "validation_generator = datagen.flow_from_directory(\n",
        "    data_dir,\n",
        "    target_size=(224, 224),\n",
        "    batch_size=batch_size,\n",
        "    class_mode='categorical',\n",
        "    shuffle=True,\n",
        "    subset='validation',  # Use 'validation' subset for validation data\n",
        ")\n",
        "\n",
        "\n",
        "# Create a separate generator for the test set without data augmentation\n",
        "test_datagen = ImageDataGenerator(rescale=1.0/255.0)\n",
        "test_generator = test_datagen.flow_from_directory(\n",
        "    data_dir,\n",
        "    target_size=(224, 224),\n",
        "    batch_size=batch_size,\n",
        "    class_mode='categorical',\n",
        "    shuffle=False,  # No shuffling for the test data\n",
        ")\n",
        "\n",
        "# Build the base model (Inception-ResNet-v2) and add custom layers\n",
        "base_model = InceptionResNetV2(weights='imagenet', include_top=False, input_shape=(224, 224, 3))\n",
        "\n",
        "# Unfreeze some layers for fine-tuning\n",
        "for layer in base_model.layers[:100]:\n",
        "    layer.trainable = True\n",
        "\n",
        "x = base_model.output\n",
        "x = GlobalAveragePooling2D()(x)\n",
        "x = Dropout(0.3)(x)\n",
        "predictions = Dense(train_generator.num_classes, activation='softmax')(x)\n",
        "model = Model(inputs=base_model.input, outputs=predictions)\n",
        "\n",
        "# Implement a learning rate schedule\n",
        "learning_rate_schedule = tf.keras.optimizers.schedules.ExponentialDecay(\n",
        "    initial_learning_rate=0.001,\n",
        "    decay_steps=10000,\n",
        "    decay_rate=0.9\n",
        ")\n",
        "\n",
        "# Compile the model with the learning rate schedule\n",
        "model.compile(optimizer=Adam(learning_rate=learning_rate_schedule), loss='categorical_crossentropy', metrics=['accuracy'])\n",
        "\n",
        "# Implement early stopping\n",
        "early_stopping = EarlyStopping(monitor='val_loss', patience=10, restore_best_weights=True)\n",
        "\n",
        "# Train the model with fine-tuning\n",
        "history = model.fit(\n",
        "    train_generator,\n",
        "    epochs=epochs,\n",
        "    validation_data=validation_generator,\n",
        "    callbacks=[early_stopping]\n",
        ")\n",
        "\n",
        "# Evaluate the model on the test data\n",
        "test_loss, test_accuracy = model.evaluate(test_generator, verbose=1)\n",
        "print(f\"Test Accuracy: {test_accuracy * 100:.2f}%\")\n",
        "\n",
        "# Convert one-hot encoded labels back to class indices\n",
        "y_true = test_generator.classes\n",
        "\n",
        "# Convert model predictions to class indices\n",
        "y_pred = np.argmax(model.predict(test_generator), axis=1)\n",
        "\n",
        "# Generate the classification report\n",
        "class_names = list(train_generator.class_indices.keys())  # Get class labels\n",
        "report = classification_report(y_true, y_pred, target_names=class_names)\n",
        "\n",
        "# Print the classification report\n",
        "print(report)\n",
        "\n",
        "# Calculate the confusion matrix\n",
        "confusion = confusion_matrix(y_true, y_pred)\n",
        "\n",
        "# Create a function to plot the confusion matrix\n",
        "def plot_confusion_matrix(cm, labels):\n",
        "    plt.figure(figsize=(8, 6))\n",
        "    sns.heatmap(cm, annot=True, fmt=\"d\", cmap=\"Blues\", xticklabels=labels, yticklabels=labels)\n",
        "    plt.xlabel('Predicted')\n",
        "    plt.ylabel('True')\n",
        "    plt.title('Confusion Matrix')\n",
        "    plt.show()\n",
        "\n",
        "# Call the function to plot the confusion matrix\n",
        "plot_confusion_matrix(confusion, class_names)\n",
        "\n",
        "\n",
        "\n",
        "\n",
        "\n",
        "\n",
        "\n",
        "\n",
        "\n",
        "\n",
        "\n",
        "\n",
        "\n"
      ],
      "metadata": {
        "colab": {
          "base_uri": "https://localhost:8080/"
        },
        "id": "qmpTIHwChd9M",
        "outputId": "668af43c-9003-4570-87bf-05847e53c145"
      },
      "execution_count": null,
      "outputs": [
        {
          "output_type": "stream",
          "name": "stdout",
          "text": [
            "Found 8015 images belonging to 7 classes.\n",
            "Found 2000 images belonging to 7 classes.\n",
            "Found 10015 images belonging to 7 classes.\n",
            "Downloading data from https://storage.googleapis.com/tensorflow/keras-applications/inception_resnet_v2/inception_resnet_v2_weights_tf_dim_ordering_tf_kernels_notop.h5\n",
            "219055592/219055592 [==============================] - 3s 0us/step\n",
            "Epoch 1/30\n",
            "668/668 [==============================] - 360s 397ms/step - loss: 0.8550 - accuracy: 0.6958 - val_loss: 2.4014 - val_accuracy: 0.6865\n",
            "Epoch 2/30\n",
            "668/668 [==============================] - 256s 382ms/step - loss: 0.7617 - accuracy: 0.7274 - val_loss: 0.7607 - val_accuracy: 0.7320\n",
            "Epoch 3/30\n",
            "668/668 [==============================] - 257s 384ms/step - loss: 0.7472 - accuracy: 0.7294 - val_loss: 0.7216 - val_accuracy: 0.7455\n",
            "Epoch 4/30\n",
            "668/668 [==============================] - 254s 380ms/step - loss: 0.6924 - accuracy: 0.7520 - val_loss: 2.9402 - val_accuracy: 0.4320\n",
            "Epoch 5/30\n",
            "668/668 [==============================] - 253s 378ms/step - loss: 0.6632 - accuracy: 0.7577 - val_loss: 32.1377 - val_accuracy: 0.4105\n",
            "Epoch 6/30\n",
            "668/668 [==============================] - 255s 381ms/step - loss: 0.6277 - accuracy: 0.7733 - val_loss: 0.7807 - val_accuracy: 0.7360\n",
            "Epoch 7/30\n",
            "668/668 [==============================] - 254s 380ms/step - loss: 0.6088 - accuracy: 0.7772 - val_loss: 0.6459 - val_accuracy: 0.7710\n",
            "Epoch 8/30\n",
            "668/668 [==============================] - 253s 379ms/step - loss: 0.5937 - accuracy: 0.7863 - val_loss: 1.2497 - val_accuracy: 0.7605\n",
            "Epoch 9/30\n",
            "668/668 [==============================] - 255s 382ms/step - loss: 0.5943 - accuracy: 0.7854 - val_loss: 2.7685 - val_accuracy: 0.4945\n",
            "Epoch 10/30\n",
            "668/668 [==============================] - 253s 379ms/step - loss: 0.5487 - accuracy: 0.7978 - val_loss: 0.6102 - val_accuracy: 0.7765\n",
            "Epoch 11/30\n",
            "668/668 [==============================] - 275s 411ms/step - loss: 0.5331 - accuracy: 0.8019 - val_loss: 0.4940 - val_accuracy: 0.8210\n",
            "Epoch 12/30\n",
            "668/668 [==============================] - 255s 381ms/step - loss: 0.5300 - accuracy: 0.8041 - val_loss: 1.0207 - val_accuracy: 0.6370\n",
            "Epoch 13/30\n",
            "668/668 [==============================] - 253s 379ms/step - loss: 0.5475 - accuracy: 0.8000 - val_loss: 0.5766 - val_accuracy: 0.7995\n",
            "Epoch 14/30\n",
            "668/668 [==============================] - 251s 376ms/step - loss: 0.5194 - accuracy: 0.8086 - val_loss: 0.4986 - val_accuracy: 0.8100\n",
            "Epoch 15/30\n",
            "668/668 [==============================] - 252s 377ms/step - loss: 0.4829 - accuracy: 0.8228 - val_loss: 0.5472 - val_accuracy: 0.7950\n",
            "Epoch 16/30\n",
            "668/668 [==============================] - 252s 377ms/step - loss: 0.4642 - accuracy: 0.8283 - val_loss: 0.4625 - val_accuracy: 0.8255\n",
            "Epoch 17/30\n",
            "668/668 [==============================] - 252s 377ms/step - loss: 0.4359 - accuracy: 0.8425 - val_loss: 0.5787 - val_accuracy: 0.7995\n",
            "Epoch 18/30\n",
            "668/668 [==============================] - 258s 387ms/step - loss: 0.4342 - accuracy: 0.8413 - val_loss: 0.6884 - val_accuracy: 0.7755\n",
            "Epoch 19/30\n",
            "668/668 [==============================] - 251s 375ms/step - loss: 0.4431 - accuracy: 0.8377 - val_loss: 0.7278 - val_accuracy: 0.7600\n",
            "Epoch 20/30\n",
            "668/668 [==============================] - 253s 378ms/step - loss: 0.4396 - accuracy: 0.8387 - val_loss: 1.1267 - val_accuracy: 0.7670\n",
            "Epoch 21/30\n",
            "668/668 [==============================] - 250s 375ms/step - loss: 0.4395 - accuracy: 0.8455 - val_loss: 30.2512 - val_accuracy: 0.1350\n",
            "Epoch 22/30\n",
            "668/668 [==============================] - 252s 376ms/step - loss: 0.4526 - accuracy: 0.8384 - val_loss: 5.7091 - val_accuracy: 0.4570\n",
            "Epoch 23/30\n",
            "668/668 [==============================] - 250s 374ms/step - loss: 0.3888 - accuracy: 0.8553 - val_loss: 0.5379 - val_accuracy: 0.8185\n",
            "Epoch 24/30\n",
            "668/668 [==============================] - 252s 377ms/step - loss: 0.3797 - accuracy: 0.8581 - val_loss: 0.5983 - val_accuracy: 0.7975\n",
            "Epoch 25/30\n",
            "668/668 [==============================] - 250s 374ms/step - loss: 0.3658 - accuracy: 0.8626 - val_loss: 0.4787 - val_accuracy: 0.8315\n",
            "Epoch 26/30\n",
            "668/668 [==============================] - 252s 378ms/step - loss: 0.3559 - accuracy: 0.8689 - val_loss: 0.5542 - val_accuracy: 0.7975\n",
            "835/835 [==============================] - 96s 115ms/step - loss: 0.4907 - accuracy: 0.8270\n",
            "Test Accuracy: 82.70%\n",
            "835/835 [==============================] - 97s 111ms/step\n",
            "                                                precision    recall  f1-score   support\n",
            "\n",
            "Actinic_keratosis_or_intraepithelial_carcinoma       1.00      0.16      0.27       327\n",
            "                          Basal_cell_carcinoma       0.88      0.66      0.75       514\n",
            "                  Benign_keratosis_like_lesion       0.54      0.87      0.67      1099\n",
            "                                Dermatofibroma       0.78      0.66      0.71       115\n",
            "                              Melanocytic_nevi       0.94      0.90      0.92      6705\n",
            "                                      Melanoma       0.61      0.63      0.62      1113\n",
            "                               Vascular_lesion       0.91      0.90      0.91       142\n",
            "\n",
            "                                      accuracy                           0.83     10015\n",
            "                                     macro avg       0.81      0.68      0.69     10015\n",
            "                                  weighted avg       0.86      0.83      0.83     10015\n",
            "\n"
          ]
        },
        {
          "output_type": "display_data",
          "data": {
            "text/plain": [
              "<Figure size 800x600 with 2 Axes>"
            ],
            "image/png": "[encoded data removed]"
          },
          "metadata": {}
        }
      ]
    },
    {
      "cell_type": "code",
      "source": [
        "# import pandas as pd\n",
        "\n",
        "# # Create a dictionary to store the results\n",
        "# results_dict = {\n",
        "#     'Test Accuracy': [test_accuracy * 100],\n",
        "#     'Classification Report': [report],\n",
        "# }\n",
        "\n",
        "# # Convert the confusion matrix to a DataFrame\n",
        "# confusion_df = pd.DataFrame(confusion, index=class_names, columns=class_names)\n",
        "\n",
        "# # Save the confusion matrix to CSV\n",
        "# confusion_df.to_csv('confusion_matrix.csv')\n",
        "\n",
        "# # Convert the dictionary to a DataFrame\n",
        "# results_df = pd.DataFrame(results_dict)\n",
        "\n",
        "# # Save the results to CSV\n",
        "# results_df.to_csv('evaluation_results.csv', index=False)\n",
        "\n",
        "\n",
        "import pandas as pd\n",
        "from google.colab import drive\n",
        "\n",
        "# Mount Google Drive\n",
        "drive.mount('/content/drive')\n",
        "\n",
        "# Define the path to the directory where you want to save the files\n",
        "path = '/content/drive/My Drive/'\n",
        "\n",
        "# Create a dictionary to store the results\n",
        "results_dict = {\n",
        "    'Test Accuracy': [test_accuracy * 100],\n",
        "    'Classification Report': [report],\n",
        "}\n",
        "\n",
        "# Convert the confusion matrix to a DataFrame\n",
        "confusion_df = pd.DataFrame(confusion, index=class_names, columns=class_names)\n",
        "\n",
        "# Save the confusion matrix to CSV\n",
        "confusion_df.to_csv(path + 'InceptionResNetV2_cse438_confusion_matrix.csv')\n",
        "\n",
        "# Convert the dictionary to a DataFrame\n",
        "results_df = pd.DataFrame(results_dict)\n",
        "\n",
        "# Save the results to CSV\n",
        "results_df.to_csv(path + 'InceptionResNetV2_cse438_evaluation_results.csv', index=False)\n"
      ],
      "metadata": {
        "colab": {
          "base_uri": "https://localhost:8080/"
        },
        "id": "JK0bGEYohd_Q",
        "outputId": "17315be3-c607-47ce-d1f3-8c44eeee94bd"
      },
      "execution_count": null,
      "outputs": [
        {
          "output_type": "stream",
          "name": "stdout",
          "text": [
            "Drive already mounted at /content/drive; to attempt to forcibly remount, call drive.mount(\"/content/drive\", force_remount=True).\n"
          ]
        }
      ]
    },
    {
      "cell_type": "code",
      "source": [],
      "metadata": {
        "id": "vAeYPYJDheBM"
      },
      "execution_count": null,
      "outputs": []
    },
    {
      "cell_type": "code",
      "source": [],
      "metadata": {
        "id": "NnOWWIhfheDR"
      },
      "execution_count": null,
      "outputs": []
    },
    {
      "cell_type": "code",
      "source": [],
      "metadata": {
        "id": "EOIHj4t6heFX"
      },
      "execution_count": null,
      "outputs": []
    },
    {
      "cell_type": "code",
      "source": [],
      "metadata": {
        "id": "bCF7UYSQheHc"
      },
      "execution_count": null,
      "outputs": []
    },
    {
      "cell_type": "code",
      "source": [],
      "metadata": {
        "id": "jCcwcQNzheKC"
      },
      "execution_count": null,
      "outputs": []
    },
    {
      "cell_type": "code",
      "source": [],
      "metadata": {
        "id": "_WfjskOtheLw"
      },
      "execution_count": null,
      "outputs": []
    },
    {
      "cell_type": "code",
      "source": [],
      "metadata": {
        "id": "vtafCVOZhePX"
      },
      "execution_count": null,
      "outputs": []
    }
  ]
}